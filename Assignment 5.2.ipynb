{
 "cells": [
  {
   "cell_type": "code",
   "execution_count": 869,
   "id": "e6c21f8a-f170-4919-a0fc-d8c8e909b204",
   "metadata": {},
   "outputs": [],
   "source": [
    "import numpy as np\n",
    "import pickle\n",
    "import math\n",
    "import matplotlib.pyplot as plt"
   ]
  },
  {
   "cell_type": "code",
   "execution_count": 871,
   "id": "c487fda7-452f-4925-a6cd-f17a8377fc39",
   "metadata": {},
   "outputs": [],
   "source": [
    "# Load xor toy dataset\n",
    "with open('/Users/aton/Machine Learning/5.2 Data/xordata.pkl', 'rb') as f:\n",
    "    data = pickle.load(f)\n",
    "\n",
    "X_train = data['X_train'] # 800 training data points with 2 features\n",
    "y_train = data['y_train'] # training binary labels {0,1}\n",
    "\n",
    "X_test = data['X_test']\n",
    "y_test = data['y_test']"
   ]
  },
  {
   "cell_type": "code",
   "execution_count": 873,
   "id": "1239e39e-1693-40a1-b119-2b1d51a083f1",
   "metadata": {},
   "outputs": [
    {
     "name": "stdout",
     "output_type": "stream",
     "text": [
      "(800, 2) (800,)\n",
      "(200, 2) (200,)\n"
     ]
    }
   ],
   "source": [
    "print(X_train.shape, y_train.shape)\n",
    "print(X_test.shape, y_test.shape)"
   ]
  },
  {
   "cell_type": "code",
   "execution_count": 875,
   "id": "00fa2073-7c97-4171-9ba7-dcd062197043",
   "metadata": {},
   "outputs": [],
   "source": [
    "#plt.scatter(X_train[:,0], X_train[:,1], s=40, c=y_train, cmap=plt.cm.Spectral)"
   ]
  },
  {
   "cell_type": "code",
   "execution_count": 877,
   "id": "369a5423-33d9-4ba6-963f-239cb851c12c",
   "metadata": {},
   "outputs": [],
   "source": [
    "# Normalize data (maybe make a method instead)\n",
    "X = X_train\n",
    "x1sum=0\n",
    "x2sum=0\n",
    "for i in range(X.shape[0]):\n",
    "    xn = X[i]\n",
    "    x1 = xn[0]\n",
    "    x2 = xn[1]\n",
    "    x1sum= x1sum + x1\n",
    "    x2sum = x2sum + x2\n",
    "x1avr = x1sum/X.shape[0]\n",
    "x2avr = x2sum/X.shape[0]\n",
    "x1var=0\n",
    "x2var=0\n",
    "for i in range(X.shape[0]):\n",
    "    xn = X[i]\n",
    "    x1 = xn[0]\n",
    "    x2 = xn[1]\n",
    "    x1var = x1var + (x1-x1avr)**2\n",
    "    x2var = x2var + (x2-x2avr)**2\n",
    "\n",
    "Xnorm = X\n",
    "for i in range(X.shape[0]):\n",
    "    Xnorm[i,0] = (X[i,0]-x1avr)/math.sqrt(x1var)\n",
    "    Xnorm[i,1] = (X[i,1]-x2avr)/math.sqrt(x2var)\n"
   ]
  },
  {
   "cell_type": "code",
   "execution_count": 949,
   "id": "342adc2f-cc82-4640-afbc-f35a7e5eded3",
   "metadata": {},
   "outputs": [],
   "source": [
    "# Random initialization\n",
    "upperlowerbound = 5\n",
    "M=10\n",
    "w0 = np.random.uniform(low=-upperlowerbound, high=upperlowerbound, size=(M, 2))\n",
    "w1 = np.random.uniform(low=-upperlowerbound, high=upperlowerbound, size=(M+1, 1))\n",
    "z0 = 1"
   ]
  },
  {
   "cell_type": "code",
   "execution_count": 881,
   "id": "86ee1db0-4685-460f-80c4-7ba5d7d32b95",
   "metadata": {},
   "outputs": [],
   "source": [
    "# NN - first layer\n",
    "def NN01(x,w0,z0,w1):  # x = 1x2, w0 = 4x2, z0 = c, w1 = 5x1\n",
    "    a = w0 @ x.T\n",
    "    a = a.flatten()\n",
    "    z = np.array([ReLu(val) for val in a])       \n",
    "    z = np.insert(z,0,z0)\n",
    "    return NN02(z,w1,a)"
   ]
  },
  {
   "cell_type": "code",
   "execution_count": 883,
   "id": "3b858553-9858-4f2a-a99d-8d17c59a8796",
   "metadata": {},
   "outputs": [],
   "source": [
    "## NN - second layer\n",
    "def NN02(z,w1,a1):\n",
    "    a = w1.T @ z\n",
    "    y = sigmoid(a)\n",
    "    if(y<1/2):\n",
    "        c=0\n",
    "    else:\n",
    "        c=1\n",
    "    return (y,a1,z)"
   ]
  },
  {
   "cell_type": "code",
   "execution_count": 885,
   "id": "7d91d475-a662-4481-b28c-b52881ecbea8",
   "metadata": {},
   "outputs": [],
   "source": [
    "# ReLu function\n",
    "def ReLu(x):\n",
    "    if(x>0):\n",
    "        return x\n",
    "    else:\n",
    "        return 0"
   ]
  },
  {
   "cell_type": "code",
   "execution_count": 887,
   "id": "c4aa5e39-ea57-437d-83a8-2147ca9e474e",
   "metadata": {},
   "outputs": [],
   "source": [
    "# derivative of ReLu\n",
    "def dReLu(x):\n",
    "    if(x>0):\n",
    "        return 1\n",
    "    else:\n",
    "        return 0"
   ]
  },
  {
   "cell_type": "code",
   "execution_count": 889,
   "id": "efacab36-4f58-42b5-a51b-8b5e37cfe976",
   "metadata": {},
   "outputs": [],
   "source": [
    "# Sigmoid function\n",
    "def sigmoid(x):\n",
    "    return 1/(1+math.exp(-x))"
   ]
  },
  {
   "cell_type": "code",
   "execution_count": 923,
   "id": "df049f9f-b8f1-492b-ac4d-6b2538780864",
   "metadata": {},
   "outputs": [],
   "source": [
    "# Forward Propagation\n",
    "def FP(Vector):\n",
    "    output = []\n",
    "    for val in Vector:\n",
    "        a,b,c = NN01(val,w0,z0,w1)\n",
    "        #if(a<1/2):\n",
    "        #    a=0.000001\n",
    "        #else:\n",
    "        #    a=0.999999\n",
    "        output.append(a)\n",
    "    output = np.array(output)\n",
    "    return output"
   ]
  },
  {
   "cell_type": "code",
   "execution_count": 931,
   "id": "e6ff08e4-088d-415b-aaa4-3dacd944352f",
   "metadata": {},
   "outputs": [],
   "source": [
    "# Loss function\n",
    "def CrossEntropyLoss(y, X):\n",
    "    y = np.array(y)\n",
    "    X = np.array(X)\n",
    "    sum = 0\n",
    "    for i in range(X.shape[0]):\n",
    "        sum = sum + y[i]*math.log(X[i]+0.000001) + (1-y[i])*math.log(1-X[i]+0.000001)\n",
    "    sum = (-1 * sum)/X.shape[0]\n",
    "    return sum"
   ]
  },
  {
   "cell_type": "code",
   "execution_count": 895,
   "id": "41c6dee1-2cd2-408e-97de-67a3023b7aee",
   "metadata": {},
   "outputs": [],
   "source": [
    "# backprop\n",
    "\n",
    "def backprop(x,y,X,a1,z1,w0,w1):\n",
    "    deltak = 0\n",
    "    #for i in range(X.shape[0]):\n",
    "        #deltak = deltak + X[i] - y[i]\n",
    "    deltak = deltak + X - y\n",
    "    \n",
    "    dEdw1 = deltak * z1\n",
    "    \n",
    "    delta1 = []\n",
    "    for i in range(a1.shape[0]):\n",
    "        delta1.append(dReLu(a1[i])*deltak*w1[i+1])\n",
    "    \n",
    "    delta1 = np.array(delta1)\n",
    "    dEdw0 = delta1 * x\n",
    "\n",
    "    return (dEdw1, dEdw0)"
   ]
  },
  {
   "cell_type": "code",
   "execution_count": 897,
   "id": "06fbc209-830b-432e-9a51-6434685ef47e",
   "metadata": {},
   "outputs": [],
   "source": [
    "iterations = 7000\n",
    "batch = 50\n",
    "stepsize = 0.01"
   ]
  },
  {
   "cell_type": "code",
   "execution_count": 953,
   "id": "60557b3f-bf9d-488c-87f9-761930de5486",
   "metadata": {},
   "outputs": [],
   "source": [
    "# SGD\n",
    "for iteration in range(iterations):\n",
    "    indices = np.random.permutation(Xnorm.shape[0])  # random seed\n",
    "    Xnorm = Xnorm[indices]  # Shuffle rows according to seed\n",
    "    y_train = y_train[indices]  # the same but for y\n",
    "\n",
    "    for i in range(batch):\n",
    "        xn = Xnorm[i]\n",
    "        t = y_train[i]\n",
    "        y,a1,z1 = NN01(xn,w0,z0,w1)\n",
    "\n",
    "        dEdw1, dEdw0 = backprop(xn,t,y,a1,z1,w0,w1)\n",
    "\n",
    "        for i in range(w0.shape[0]):\n",
    "            w0[i,0] = w0[i,0] - stepsize*dEdw0[i,0]\n",
    "            w0[i,1] = w0[i,1] - stepsize*dEdw0[i,1]\n",
    "\n",
    "        for i in range(w1.shape[0]):\n",
    "            w1[i,] = w1[i,] - stepsize*dEdw1[i,]\n",
    "\n"
   ]
  },
  {
   "cell_type": "code",
   "execution_count": 957,
   "id": "dffc8bd9-5431-40e8-8a02-6ffb9744a41d",
   "metadata": {},
   "outputs": [
    {
     "name": "stdout",
     "output_type": "stream",
     "text": [
      "0.09772099697493836\n"
     ]
    }
   ],
   "source": [
    "#test\n",
    "xxx = FP(Xnorm)\n",
    "print(CrossEntropyLoss(y_train,xxx))"
   ]
  }
 ],
 "metadata": {
  "kernelspec": {
   "display_name": "Python 3 (ipykernel)",
   "language": "python",
   "name": "python3"
  },
  "language_info": {
   "codemirror_mode": {
    "name": "ipython",
    "version": 3
   },
   "file_extension": ".py",
   "mimetype": "text/x-python",
   "name": "python",
   "nbconvert_exporter": "python",
   "pygments_lexer": "ipython3",
   "version": "3.11.5"
  }
 },
 "nbformat": 4,
 "nbformat_minor": 5
}
